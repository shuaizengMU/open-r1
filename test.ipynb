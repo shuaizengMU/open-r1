{
 "cells": [
  {
   "cell_type": "code",
   "execution_count": 1,
   "id": "75398032",
   "metadata": {},
   "outputs": [],
   "source": [
    "import asyncio\n",
    "import json\n",
    "import math\n",
    "import re\n",
    "from functools import partial, update_wrapper\n",
    "from typing import Callable, Dict, Optional\n",
    "\n",
    "from latex2sympy2_extended import NormalizationConfig\n",
    "from math_verify import LatexExtractionConfig, parse, verify, StringExtractionConfig\n",
    "\n",
    "# from .utils import is_e2b_available\n",
    "# from .utils.ioi import SubtaskResult, add_includes, get_piston_client_from_env, score_subtask\n",
    "\n",
    "\n",
    "# if is_e2b_available():\n",
    "#     from dotenv import load_dotenv\n",
    "#     from e2b_code_interpreter import AsyncSandbox\n",
    "\n",
    "#     from .utils.routed_sandbox import RoutedSandbox\n",
    "\n",
    "#     load_dotenv()\n",
    "# else:\n",
    "#     AsyncSandbox = None\n"
   ]
  },
  {
   "cell_type": "code",
   "execution_count": null,
   "id": "73f946f4",
   "metadata": {},
   "outputs": [
    {
     "data": {
      "text/plain": [
       "'ABD'"
      ]
     },
     "execution_count": 6,
     "metadata": {},
     "output_type": "execute_result"
    }
   ],
   "source": [
    "\n",
    "def extract_answer(sentence: str) -> str | None:\n",
    "    \"\"\"\n",
    "    Extracts the answer from a given sentence.\n",
    "    The answer is expected to be enclosed within <answer> and </answer> tags.\n",
    "    The function also looks for common patterns that indicate the answer.\n",
    "    If a single letter (A-E) is found, it is returned in uppercase.\n",
    "    If no answer is found, None is returned.\n",
    "    \n",
    "    Args:\n",
    "        sentence (str): The input sentence containing the answer.\n",
    "\n",
    "    Returns:\n",
    "        str | None: The extracted answer in uppercase or None if not found.\n",
    "    \"\"\"\n",
    "\n",
    "    # match all text between <answer> and </answer> tags\n",
    "    match = re.search(r'<answer>(.*?)</answer>', sentence, re.IGNORECASE | re.DOTALL)\n",
    "    \n",
    "    if match:\n",
    "        # get all text inside the <answer> tag\n",
    "        answer_text = match.group(1)  \n",
    "        \n",
    "        # find the first occurrence of a single letter A-E (case insensitive)\n",
    "        option_match = re.search(r'([A-E])\\b', answer_text, re.IGNORECASE)\n",
    "        if option_match:\n",
    "            return option_match.group(1).upper()\n",
    "            \n",
    "        # if not found, check for other common patterns\n",
    "        patterns = [\n",
    "            r'(?:正确答案是选|正确答案是|正确答案为|答案是|应该选|选择|答案为|应为|应选|正确选项是|答案：|答案:)\\s*([A-E])',\n",
    "            r'选\\s*([A-E])\\s*项',\n",
    "            r'答案\\s*([A-E])',\n",
    "            r'为\\s*([A-E])'\n",
    "        ]\n",
    "        \n",
    "        for pattern in patterns:\n",
    "            pattern_match = re.search(pattern, answer_text, re.IGNORECASE)\n",
    "            if pattern_match:\n",
    "                return pattern_match.group(1).upper()\n",
    "    \n",
    "    return None\n",
    "\n",
    "\n",
    "def accuracy_reward_cn(completions: list[list[dict[str, str]]], solution: list[str], **kwargs) -> list[Optional[float]]:\n",
    "    \"\"\"Reward function that checks if the completion is the same as the ground truth.\"\"\"\n",
    "    contents = [completion[0][\"content\"] for completion in completions]\n",
    "    rewards = []\n",
    "    for content, sol in zip(contents, solution):\n",
    "        gold_parsed = parse(\n",
    "            sol,\n",
    "            extraction_mode=\"first_match\",\n",
    "        )\n",
    "        if len(gold_parsed) != 0:\n",
    "            # We require the answer to be provided in correct latex (no malformed operators)\n",
    "            print(content)\n",
    "            answer_parsed = extract_answer(content)\n",
    "            # Compute binary rewards if verifiable, `None` otherwise to skip this example\n",
    "            print(\"=========================\")\n",
    "            print(\"gold_parsed\", gold_parsed)\n",
    "            print(\"answer_parsed\", answer_parsed)\n",
    "            try:\n",
    "                reward = float(verify(gold_parsed, answer_parsed))\n",
    "            except Exception as e:\n",
    "                print(f\"verify failed: {e}, answer: {answer_parsed}, gold: {gold_parsed}\")\n",
    "                reward = None\n",
    "        else:\n",
    "            # If the gold solution is not parseable, we assign `None` to skip this example\n",
    "            reward = None\n",
    "            print(\"Failed to parse gold solution: \", sol)\n",
    "        rewards.append(reward)\n",
    "\n",
    "    return rewards\n",
    "\n",
    "\n",
    "\n",
    "content = [[{\"content\": \"\"\"\n",
    "<answer>(B)</answer> \n",
    "\"\"\"}]]\n",
    "content = [[{\"content\": \"\"\"\n",
    "<answer>A</answer> \n",
    "\"\"\"}]]\n",
    "content = [[{\"content\": \"\"\"\n",
    "<answer>答案:A, B, D</answer> \n",
    "\"\"\"}]]\n",
    "\n",
    "\n",
    "\n",
    "# solution = f\"$C$\"\n",
    "# accuracy_reward_cn(content, solution)\n",
    "contents = [completion[0][\"content\"] for completion in content]\n",
    "\n",
    "answer_parsed = extract_answer(contents[0])\n",
    "answer_parsed"
   ]
  },
  {
   "cell_type": "code",
   "execution_count": 14,
   "id": "25c20c0b",
   "metadata": {},
   "outputs": [
    {
     "data": {
      "text/plain": [
       "True"
      ]
     },
     "execution_count": 14,
     "metadata": {},
     "output_type": "execute_result"
    }
   ],
   "source": [
    "gold_parsed = \"A\"\n",
    "verify(gold_parsed, answer_parsed)"
   ]
  }
 ],
 "metadata": {
  "kernelspec": {
   "display_name": "env_rl",
   "language": "python",
   "name": "python3"
  },
  "language_info": {
   "codemirror_mode": {
    "name": "ipython",
    "version": 3
   },
   "file_extension": ".py",
   "mimetype": "text/x-python",
   "name": "python",
   "nbconvert_exporter": "python",
   "pygments_lexer": "ipython3",
   "version": "3.11.12"
  }
 },
 "nbformat": 4,
 "nbformat_minor": 5
}
